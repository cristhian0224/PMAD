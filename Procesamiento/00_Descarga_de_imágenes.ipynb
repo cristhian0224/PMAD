{
 "cells": [
  {
   "cell_type": "markdown",
   "metadata": {
    "ExecuteTime": {
     "end_time": "2022-03-09T22:16:39.845230Z",
     "start_time": "2022-03-09T22:16:39.839228Z"
    }
   },
   "source": [
    "\n",
    "# Diseño de una propuesta de optimización del sistema de alertas tempranas por deforestación para Colombia, caso de estudio “Corazón de la Amazonia”\n",
    "\n",
    "## Descarga de imagenes \n",
    "\n",
    "### Cristhian Forero Castro"
   ]
  },
  {
   "cell_type": "code",
   "execution_count": 1,
   "metadata": {
    "ExecuteTime": {
     "end_time": "2022-03-09T22:37:44.183274Z",
     "start_time": "2022-03-09T22:37:44.177274Z"
    }
   },
   "outputs": [],
   "source": [
    "#Descomente la siguiente línea para instalar [geemap](https://geemap.org) si es necesario.\n",
    "#!pip install geemap\n",
    "#geemap.update_package()"
   ]
  },
  {
   "cell_type": "code",
   "execution_count": 2,
   "metadata": {
    "ExecuteTime": {
     "end_time": "2022-03-09T22:37:47.171273Z",
     "start_time": "2022-03-09T22:37:44.618273Z"
    }
   },
   "outputs": [],
   "source": [
    "import ee\n",
    "import geemap\n",
    "import os\n",
    "#import ipyleaflet\n",
    "#import ipywidgets as widgets"
   ]
  },
  {
   "cell_type": "code",
   "execution_count": 5,
   "metadata": {
    "ExecuteTime": {
     "end_time": "2022-03-09T22:39:11.971273Z",
     "start_time": "2022-03-09T22:39:11.953274Z"
    },
    "scrolled": true
   },
   "outputs": [],
   "source": [
    "#Map = geemap.Map()\n",
    "#Map"
   ]
  },
  {
   "cell_type": "code",
   "execution_count": 4,
   "metadata": {
    "ExecuteTime": {
     "end_time": "2022-03-09T22:38:58.131276Z",
     "start_time": "2022-03-09T22:38:55.683274Z"
    }
   },
   "outputs": [
    {
     "data": {
      "application/vnd.jupyter.widget-view+json": {
       "model_id": "9e727e42db2342b5ab05d0b70b8b450e",
       "version_major": 2,
       "version_minor": 0
      },
      "text/plain": [
       "Map(center=[4, -74], controls=(WidgetControl(options=['position'], widget=HBox(children=(ToggleButton(value=Fa…"
      ]
     },
     "metadata": {},
     "output_type": "display_data"
    }
   ],
   "source": [
    "vis_params = {'color': '000000ff', 'width': 2, 'lineType': 'solid', 'fillColor': '000000a8'}\n",
    "Map = geemap.Map(center=[4, -74], zoom=6)\n",
    "areaestudio = 'F:/Cristhian/Tesis_capitulo_2/Imagenes_areasdeanalisis_marginaldelaselva/areaestudio_shp.shp'\n",
    "#Map.add_shapefile(areaestudio, layer_name=\"marginal\")\n",
    "#Map\n",
    "areaestudio = geemap.shp_to_ee(areaestudio)\n",
    "Map.addLayer(areaestudio, {}, 'Countries')\n",
    "Map"
   ]
  },
  {
   "cell_type": "markdown",
   "metadata": {},
   "source": [
    "## Visualización de mosaico"
   ]
  },
  {
   "cell_type": "code",
   "execution_count": 6,
   "metadata": {
    "ExecuteTime": {
     "end_time": "2022-03-09T22:39:25.224275Z",
     "start_time": "2022-03-09T22:39:24.801273Z"
    }
   },
   "outputs": [],
   "source": [
    "image = ee.Image('LE7_TOA_5YEAR/1999_2003')\n",
    "landsat_vis = {\n",
    "    'bands': ['B4', 'B3', 'B2'], \n",
    "    'gamma': 1.4\n",
    "}\n",
    "Map.addLayer(image, landsat_vis, \"LE7_TOA_5YEAR/1999_2003\", True, 0.7)"
   ]
  },
  {
   "cell_type": "code",
   "execution_count": 8,
   "metadata": {
    "ExecuteTime": {
     "end_time": "2022-03-09T22:40:01.235273Z",
     "start_time": "2022-03-09T22:40:01.226275Z"
    }
   },
   "outputs": [],
   "source": [
    "#dem = ee.Image('USGS/SRTMGL1_003')\n",
    "# Draw any shapes on the map using the Drawing tools before executing this code block\n",
    "feature = Map.draw_last_feature\n",
    "roi = feature.geometry()\n",
    "#roi= ee.Geometry.Polygon(areaestudio)\n",
    "#Fechas \n",
    "desde='2021-02-01'\n",
    "hasta='2021-09-30'"
   ]
  },
  {
   "cell_type": "markdown",
   "metadata": {},
   "source": [
    "---------\n",
    "# Descarga de imagenes Sentinel 2 SR"
   ]
  },
  {
   "cell_type": "code",
   "execution_count": 18,
   "metadata": {
    "ExecuteTime": {
     "end_time": "2021-09-28T00:34:52.573003Z",
     "start_time": "2021-09-28T00:34:52.564005Z"
    }
   },
   "outputs": [],
   "source": [
    "# Función para enmascarar nubes usando la banda Sentinel-2 QA.\n",
    "def maskS2clouds(image):\n",
    "    qa = image.select('QA60')\n",
    "\n",
    "  # Los bits 10 y 11 son nubes y cirrus.\n",
    "    cloudBitMask = 1 << 10\n",
    "    cirrusBitMask = 1 << 11\n",
    "  # Ambas mascaras deben establecerse en cero.\n",
    "    mask = qa.bitwiseAnd(cloudBitMask).eq(0).And(\n",
    "             qa.bitwiseAnd(cirrusBitMask).eq(0))\n",
    "\n",
    "  # Devuelve los datos enmascarados\n",
    "    return image.updateMask(mask).divide(1) \\\n",
    "        .select('B4', 'B8', 'B11', 'B12').reproject('EPSG:32618', None, 3).clip(roi) \\\n",
    "        .copyProperties(image, [\"system:time_start\"])\n"
   ]
  },
  {
   "cell_type": "code",
   "execution_count": 19,
   "metadata": {
    "ExecuteTime": {
     "end_time": "2021-09-28T00:34:53.862369Z",
     "start_time": "2021-09-28T00:34:53.048908Z"
    }
   },
   "outputs": [],
   "source": [
    "# Se calcula la mediana de los datos.\n",
    "collection = ee.ImageCollection('COPERNICUS/S2_SR') \\\n",
    "    .filterBounds(roi)\\\n",
    "    .filterDate(desde,hasta) \\\n",
    "    .filter(ee.Filter.lt('CLOUDY_PIXEL_PERCENTAGE', 50)) \\\n",
    "    .map(maskS2clouds)\n",
    "composite = collection.median().clip(roi)\n",
    "# Resultados.\n",
    "Map.addLayer(composite, {'bands': ['B8', 'B11', 'B12'], 'min': 0, 'max': 3000}, 'RGB')"
   ]
  },
  {
   "cell_type": "markdown",
   "metadata": {},
   "source": [
    "#### Imágenes a exportar"
   ]
  },
  {
   "cell_type": "code",
   "execution_count": 20,
   "metadata": {
    "ExecuteTime": {
     "end_time": "2021-09-28T00:34:54.792369Z",
     "start_time": "2021-09-28T00:34:54.472190Z"
    },
    "scrolled": true
   },
   "outputs": [
    {
     "name": "stdout",
     "output_type": "stream",
     "text": [
      "['20210214T151659_20210214T151702_T18NXH', '20210301T151701_20210301T152218_T18NXH', '20210321T151701_20210321T151703_T18NXH', '20210624T151709_20210624T151704_T18NXH', '20210808T151711_20210808T151707_T18NXH', '20210818T151711_20210818T152108_T18NXH', '20210823T151659_20210823T151702_T18NXH', '20210828T151711_20210828T151706_T18NXH']\n"
     ]
    }
   ],
   "source": [
    "print(collection.aggregate_array('system:index').getInfo())"
   ]
  },
  {
   "cell_type": "markdown",
   "metadata": {
    "ExecuteTime": {
     "end_time": "2022-03-09T22:25:03.584276Z",
     "start_time": "2022-03-09T22:25:03.581273Z"
    }
   },
   "source": [
    "#### Descarga de imágenes seleccionadas"
   ]
  },
  {
   "cell_type": "code",
   "execution_count": 21,
   "metadata": {
    "ExecuteTime": {
     "end_time": "2021-09-28T00:38:25.590105Z",
     "start_time": "2021-09-28T00:34:56.112764Z"
    }
   },
   "outputs": [
    {
     "name": "stdout",
     "output_type": "stream",
     "text": [
      "Total number of images: 8\n",
      "\n",
      "Exporting 1/8: 20210214T151659_20210214T151702_T18NXH.tif\n",
      "Generating URL ...\n",
      "Downloading data from https://earthengine.googleapis.com/v1alpha/projects/earthengine-legacy/thumbnails/d17c484fa885b51a7276cad966cd76b5-147200bf5fb775c294a39398ff07b92c:getPixels\n",
      "Please wait ...\n",
      "Data downloaded to C:\\Users\\crist\\Downloads\\20210214T151659_20210214T151702_T18NXH.tif\n",
      "\n",
      "\n",
      "Exporting 2/8: 20210301T151701_20210301T152218_T18NXH.tif\n",
      "Generating URL ...\n",
      "Downloading data from https://earthengine.googleapis.com/v1alpha/projects/earthengine-legacy/thumbnails/8bc55d460f8bbd91721373d87be17c0d-625765f409b0d511f8396da5d22b5d25:getPixels\n",
      "Please wait ...\n",
      "Data downloaded to C:\\Users\\crist\\Downloads\\20210301T151701_20210301T152218_T18NXH.tif\n",
      "\n",
      "\n",
      "Exporting 3/8: 20210321T151701_20210321T151703_T18NXH.tif\n",
      "Generating URL ...\n",
      "Downloading data from https://earthengine.googleapis.com/v1alpha/projects/earthengine-legacy/thumbnails/1d9f0698ff88bc75dc0f216149b9e0eb-9370570db2284b18df9918002dae71e2:getPixels\n",
      "Please wait ...\n",
      "Data downloaded to C:\\Users\\crist\\Downloads\\20210321T151701_20210321T151703_T18NXH.tif\n",
      "\n",
      "\n",
      "Exporting 4/8: 20210624T151709_20210624T151704_T18NXH.tif\n",
      "Generating URL ...\n",
      "Downloading data from https://earthengine.googleapis.com/v1alpha/projects/earthengine-legacy/thumbnails/6f19e4bbf2fc1c029acb635da1c3a90f-88321d89fb874c4bca9fe40ef78d523f:getPixels\n",
      "Please wait ...\n",
      "Data downloaded to C:\\Users\\crist\\Downloads\\20210624T151709_20210624T151704_T18NXH.tif\n",
      "\n",
      "\n",
      "Exporting 5/8: 20210808T151711_20210808T151707_T18NXH.tif\n",
      "Generating URL ...\n",
      "Downloading data from https://earthengine.googleapis.com/v1alpha/projects/earthengine-legacy/thumbnails/404f12555143f3540e5cc1aad51bd806-3f910b1bb071e5fe82ad637b4fab3dfc:getPixels\n",
      "Please wait ...\n",
      "Data downloaded to C:\\Users\\crist\\Downloads\\20210808T151711_20210808T151707_T18NXH.tif\n",
      "\n",
      "\n",
      "Exporting 6/8: 20210818T151711_20210818T152108_T18NXH.tif\n",
      "Generating URL ...\n",
      "Downloading data from https://earthengine.googleapis.com/v1alpha/projects/earthengine-legacy/thumbnails/62d96340b48504d33dd756f01438b168-15c6a25a6489465fe821ed3ae615ab9f:getPixels\n",
      "Please wait ...\n",
      "Data downloaded to C:\\Users\\crist\\Downloads\\20210818T151711_20210818T152108_T18NXH.tif\n",
      "\n",
      "\n",
      "Exporting 7/8: 20210823T151659_20210823T151702_T18NXH.tif\n",
      "Generating URL ...\n",
      "Downloading data from https://earthengine.googleapis.com/v1alpha/projects/earthengine-legacy/thumbnails/b38098574c0041f53f50e0b6cb209af1-b5d02ace474abaec97038bb321680160:getPixels\n",
      "Please wait ...\n",
      "Data downloaded to C:\\Users\\crist\\Downloads\\20210823T151659_20210823T151702_T18NXH.tif\n",
      "\n",
      "\n",
      "Exporting 8/8: 20210828T151711_20210828T151706_T18NXH.tif\n",
      "Generating URL ...\n",
      "Downloading data from https://earthengine.googleapis.com/v1alpha/projects/earthengine-legacy/thumbnails/abac1813bab61faad7c4f2dd6c03062a-c663b4fa6b4da3723302e4df93b693dd:getPixels\n",
      "Please wait ...\n",
      "Data downloaded to C:\\Users\\crist\\Downloads\\20210828T151711_20210828T151706_T18NXH.tif\n",
      "\n",
      "\n"
     ]
    }
   ],
   "source": [
    "out_dir = os.path.join(os.path.expanduser('~'), 'Downloads')\n",
    "geemap.ee_export_image_collection(collection,scale=30, out_dir=out_dir)"
   ]
  },
  {
   "cell_type": "markdown",
   "metadata": {},
   "source": [
    "----------------------------------------------------------------------------------\n",
    "# Descarga de imagenes Landsat SR \n",
    "#### Cambiar link collection l7 y l8 al igual que las bandas"
   ]
  },
  {
   "cell_type": "code",
   "execution_count": 22,
   "metadata": {
    "ExecuteTime": {
     "end_time": "2021-09-28T00:54:53.980859Z",
     "start_time": "2021-09-28T00:54:52.915886Z"
    }
   },
   "outputs": [],
   "source": [
    "# Función para máscara de nubes de la banda pixel_qa de datos Landsat 8 SR.\n",
    "\n",
    "def maskL8sr(image):\n",
    "  # Bits 3 y 5 nubes y sombras\n",
    "    cloudShadowBitMask = 1 << 3\n",
    "    cloudsBitMask = 1 << 5\n",
    "  # Seleccionar la banda pixel qa.\n",
    "    qa = image.select('pixel_qa')\n",
    "  # Ambas mascaras deben establecerse en cero.\n",
    "    mask = qa.bitwiseAnd(cloudShadowBitMask).eq(0) \\\n",
    "      .And(qa.bitwiseAnd(cloudsBitMask).eq(0))\n",
    "\n",
    "    return image.updateMask(mask).divide(1) \\\n",
    "        .select('B4','B5','B6','B7').clip(roi) \\\n",
    "        .copyProperties(image, [\"system:time_start\"])\n",
    "\n",
    "collectionlandsat = ee.ImageCollection('LANDSAT/LC08/C01/T1_SR') \\\n",
    "    .filterBounds(roi).filterDate(desde, hasta)\\\n",
    "    .map(maskL8sr)\n",
    "\n",
    "compositelandsat = collectionlandsat.median().clip(roi)\n",
    "\n",
    "# Visualización de los resultados\n",
    "Map.addLayer(compositelandsat, {'bands': ['B4', 'B5', 'B7'], 'min': 0, 'max': 3000}, 'Image')"
   ]
  },
  {
   "cell_type": "code",
   "execution_count": 23,
   "metadata": {
    "ExecuteTime": {
     "end_time": "2021-09-28T00:54:55.375697Z",
     "start_time": "2021-09-28T00:54:54.865667Z"
    }
   },
   "outputs": [
    {
     "name": "stdout",
     "output_type": "stream",
     "text": [
      "['LC08_007058_20210214', 'LC08_007058_20210302', 'LC08_007058_20210419', 'LC08_007059_20210622', 'LC08_007059_20210825']\n"
     ]
    }
   ],
   "source": [
    "print(collectionlandsat.aggregate_array('system:index').getInfo())"
   ]
  },
  {
   "cell_type": "markdown",
   "metadata": {},
   "source": [
    "#### Descarga de imágenes seleccionadas"
   ]
  },
  {
   "cell_type": "code",
   "execution_count": 24,
   "metadata": {
    "ExecuteTime": {
     "end_time": "2021-09-28T00:55:18.939599Z",
     "start_time": "2021-09-28T00:54:57.140841Z"
    }
   },
   "outputs": [
    {
     "name": "stdout",
     "output_type": "stream",
     "text": [
      "Total number of images: 5\n",
      "\n",
      "Exporting 1/5: LC08_007058_20210214.tif\n",
      "Generating URL ...\n",
      "Downloading data from https://earthengine.googleapis.com/v1alpha/projects/earthengine-legacy/thumbnails/731694c646d01062959f15ff5067f7de-0d12d739137edf1d2a27a2bbc569daff:getPixels\n",
      "Please wait ...\n",
      "Data downloaded to C:\\Users\\crist\\Downloads\\LC08_007058_20210214.tif\n",
      "\n",
      "\n",
      "Exporting 2/5: LC08_007058_20210302.tif\n",
      "Generating URL ...\n",
      "Downloading data from https://earthengine.googleapis.com/v1alpha/projects/earthengine-legacy/thumbnails/e6f85f0c9ecb88484b24bb07e9e746f6-a7b333a95aa21fa1246fcd6210225f10:getPixels\n",
      "Please wait ...\n",
      "Data downloaded to C:\\Users\\crist\\Downloads\\LC08_007058_20210302.tif\n",
      "\n",
      "\n",
      "Exporting 3/5: LC08_007058_20210419.tif\n",
      "Generating URL ...\n",
      "Downloading data from https://earthengine.googleapis.com/v1alpha/projects/earthengine-legacy/thumbnails/8445ac06a002f9b8cf5175a656e86af0-2dc9f06f530ae983ef0102df5a691ad5:getPixels\n",
      "Please wait ...\n",
      "Data downloaded to C:\\Users\\crist\\Downloads\\LC08_007058_20210419.tif\n",
      "\n",
      "\n",
      "Exporting 4/5: LC08_007059_20210622.tif\n",
      "Generating URL ...\n",
      "Downloading data from https://earthengine.googleapis.com/v1alpha/projects/earthengine-legacy/thumbnails/2f27790dcb6bb24a81f70ec48ba3f3ab-e5f46108a2c3f81823783fc30c9b44ad:getPixels\n",
      "Please wait ...\n",
      "Data downloaded to C:\\Users\\crist\\Downloads\\LC08_007059_20210622.tif\n",
      "\n",
      "\n",
      "Exporting 5/5: LC08_007059_20210825.tif\n",
      "Generating URL ...\n",
      "Downloading data from https://earthengine.googleapis.com/v1alpha/projects/earthengine-legacy/thumbnails/5d8cf8b3ffa66710cc3e1875464d34e3-612ca0107a22c2830b65e55bddaf6b00:getPixels\n",
      "Please wait ...\n",
      "Data downloaded to C:\\Users\\crist\\Downloads\\LC08_007059_20210825.tif\n",
      "\n",
      "\n"
     ]
    }
   ],
   "source": [
    "#DESCARGA DE IMÁGENES LANDSAT\n",
    "out_dir = os.path.join(os.path.expanduser('~'), 'Downloads')\n",
    "geemap.ee_export_image_collection(collectionlandsat, out_dir=out_dir, scale=30, region=roi)"
   ]
  },
  {
   "cell_type": "markdown",
   "metadata": {},
   "source": [
    "-------------------------------------------------------------------------------------------------------------------------------\n",
    "# Descarga de imagenes Sentinel-1 SAR"
   ]
  },
  {
   "cell_type": "code",
   "execution_count": 25,
   "metadata": {
    "ExecuteTime": {
     "end_time": "2021-09-28T01:07:55.878397Z",
     "start_time": "2021-09-28T01:07:54.881954Z"
    }
   },
   "outputs": [],
   "source": [
    "# Llamado de la colección de Sentinel-1\n",
    "def clipSAR(imagesar):\n",
    "    return imagesar.select('VV').clip(roi) \\\n",
    "        .copyProperties(imagesar, [\"system:time_start\"])\n",
    "\n",
    "sentinel1 = ee.ImageCollection('COPERNICUS/S1_GRD') \\\n",
    "    .filterBounds(roi).filterDate(desde, hasta)\\\n",
    "    .map(clipSAR)\n",
    "\n",
    "# Filtro de la colección.\n",
    "vh = sentinel1 \\\n",
    "    .filter(ee.Filter.listContains('transmitterReceiverPolarisation', 'VH')) \\\n",
    "    .filter(ee.Filter.eq('instrumentMode', 'IW'))\n",
    "vv=  sentinel1 \\\n",
    "    .filter(ee.Filter.listContains('transmitterReceiverPolarisation', 'VV')) \\\n",
    "    .filter(ee.Filter.eq('instrumentMode', 'IW'))\n",
    "\n",
    "# Seleccionar lo que se desea descargar.\n",
    "SAR_VH_A = vh.filter(ee.Filter.eq('orbitProperties_pass', 'ASCENDING'))\n",
    "SAR_VH_D = vh.filter(ee.Filter.eq('orbitProperties_pass', 'DESCENDING'))\n",
    "SAR_VV_A = vv.filter(ee.Filter.eq('orbitProperties_pass', 'ASCENDING'))\n",
    "SAR_VV_D = vv.filter(ee.Filter.eq('orbitProperties_pass', 'DESCENDING'))\n",
    "\n",
    "compositeSAR=SAR_VV_A.median()\n",
    "# Visualización de la métrica.\n",
    "Map.addLayer(compositeSAR, {'min': [-25], 'max': [0]}, 'composite')"
   ]
  },
  {
   "cell_type": "markdown",
   "metadata": {},
   "source": [
    "#### Descarga de imágenes seleccionadas"
   ]
  },
  {
   "cell_type": "code",
   "execution_count": 26,
   "metadata": {
    "ExecuteTime": {
     "end_time": "2021-09-28T01:07:59.815782Z",
     "start_time": "2021-09-28T01:07:59.425191Z"
    }
   },
   "outputs": [
    {
     "name": "stdout",
     "output_type": "stream",
     "text": [
      "['S1B_IW_GRDH_1SDV_20210210T231230_20210210T231255_025550_030B6A_8B4B', 'S1B_IW_GRDH_1SDV_20210222T231230_20210222T231255_025725_03111F_F04D', 'S1B_IW_GRDH_1SDV_20210306T231230_20210306T231255_025900_0316D7_52C2', 'S1B_IW_GRDH_1SDV_20210318T231230_20210318T231255_026075_031C7B_2296', 'S1B_IW_GRDH_1SDV_20210330T231230_20210330T231255_026250_03220A_86BD', 'S1B_IW_GRDH_1SDV_20210411T231230_20210411T231255_026425_032797_97AA', 'S1B_IW_GRDH_1SDV_20210423T231231_20210423T231256_026600_032D36_FABC', 'S1B_IW_GRDH_1SDV_20210505T231231_20210505T231256_026775_0332CE_72A5', 'S1B_IW_GRDH_1SDV_20210517T231232_20210517T231257_026950_033847_A9D4', 'S1B_IW_GRDH_1SDV_20210529T231233_20210529T231258_027125_033D83_9995', 'S1B_IW_GRDH_1SDV_20210610T231234_20210610T231259_027300_0342C3_B840', 'S1B_IW_GRDH_1SDV_20210622T231234_20210622T231259_027475_0347EA_0BC4', 'S1B_IW_GRDH_1SDV_20210704T231235_20210704T231300_027650_034CD6_BC1E', 'S1B_IW_GRDH_1SDV_20210716T231236_20210716T231301_027825_035204_48ED', 'S1B_IW_GRDH_1SDV_20210728T231237_20210728T231302_028000_035726_4937', 'S1B_IW_GRDH_1SDV_20210809T231237_20210809T231302_028175_035C82_E9CB', 'S1B_IW_GRDH_1SDV_20210821T231238_20210821T231303_028350_0361FC_04BB', 'S1B_IW_GRDH_1SDV_20210902T231238_20210902T231303_028525_03676F_E94B', 'S1B_IW_GRDH_1SDV_20210914T231239_20210914T231304_028700_036CD0_6073']\n"
     ]
    }
   ],
   "source": [
    "print(SAR_VV_A.aggregate_array('system:index').getInfo())"
   ]
  },
  {
   "cell_type": "code",
   "execution_count": 27,
   "metadata": {
    "ExecuteTime": {
     "end_time": "2021-09-28T01:09:05.384508Z",
     "start_time": "2021-09-28T01:08:03.864909Z"
    }
   },
   "outputs": [
    {
     "name": "stdout",
     "output_type": "stream",
     "text": [
      "Total number of images: 19\n",
      "\n",
      "Exporting 1/19: S1B_IW_GRDH_1SDV_20210210T231230_20210210T231255_025550_030B6A_8B4B.tif\n",
      "Generating URL ...\n",
      "Downloading data from https://earthengine.googleapis.com/v1alpha/projects/earthengine-legacy/thumbnails/20d6404e7995e2f0e5d88ce7b215e4d1-3d3a5392b7832b29c227dc25efa67344:getPixels\n",
      "Please wait ...\n",
      "Data downloaded to C:\\Users\\crist\\Downloads\\S1B_IW_GRDH_1SDV_20210210T231230_20210210T231255_025550_030B6A_8B4B.tif\n",
      "\n",
      "\n",
      "Exporting 2/19: S1B_IW_GRDH_1SDV_20210222T231230_20210222T231255_025725_03111F_F04D.tif\n",
      "Generating URL ...\n",
      "Downloading data from https://earthengine.googleapis.com/v1alpha/projects/earthengine-legacy/thumbnails/5efdfcf3cd52783e5646255847250944-1f2632b3507b4ac30f907beddc612624:getPixels\n",
      "Please wait ...\n",
      "Data downloaded to C:\\Users\\crist\\Downloads\\S1B_IW_GRDH_1SDV_20210222T231230_20210222T231255_025725_03111F_F04D.tif\n",
      "\n",
      "\n",
      "Exporting 3/19: S1B_IW_GRDH_1SDV_20210306T231230_20210306T231255_025900_0316D7_52C2.tif\n",
      "Generating URL ...\n",
      "Downloading data from https://earthengine.googleapis.com/v1alpha/projects/earthengine-legacy/thumbnails/b81f00fb5b19421ad0926aa8dd6cb9ee-c32caa567d402a97625d2e63f1f49d64:getPixels\n",
      "Please wait ...\n",
      "Data downloaded to C:\\Users\\crist\\Downloads\\S1B_IW_GRDH_1SDV_20210306T231230_20210306T231255_025900_0316D7_52C2.tif\n",
      "\n",
      "\n",
      "Exporting 4/19: S1B_IW_GRDH_1SDV_20210318T231230_20210318T231255_026075_031C7B_2296.tif\n",
      "Generating URL ...\n",
      "Downloading data from https://earthengine.googleapis.com/v1alpha/projects/earthengine-legacy/thumbnails/ed5649da71b5470aae2163515594aa2b-5d405aa6d8ed01cabd579e8815af5c80:getPixels\n",
      "Please wait ...\n",
      "Data downloaded to C:\\Users\\crist\\Downloads\\S1B_IW_GRDH_1SDV_20210318T231230_20210318T231255_026075_031C7B_2296.tif\n",
      "\n",
      "\n",
      "Exporting 5/19: S1B_IW_GRDH_1SDV_20210330T231230_20210330T231255_026250_03220A_86BD.tif\n",
      "Generating URL ...\n",
      "Downloading data from https://earthengine.googleapis.com/v1alpha/projects/earthengine-legacy/thumbnails/63253d809f1b74b334443c0de69c1d2a-537818e8767996ef09ad6edeeaadf6a7:getPixels\n",
      "Please wait ...\n",
      "Data downloaded to C:\\Users\\crist\\Downloads\\S1B_IW_GRDH_1SDV_20210330T231230_20210330T231255_026250_03220A_86BD.tif\n",
      "\n",
      "\n",
      "Exporting 6/19: S1B_IW_GRDH_1SDV_20210411T231230_20210411T231255_026425_032797_97AA.tif\n",
      "Generating URL ...\n",
      "Downloading data from https://earthengine.googleapis.com/v1alpha/projects/earthengine-legacy/thumbnails/ec32b4667324e44d050f281d97d0ae04-c6fc9dfc4042ba883a96beefa34a805c:getPixels\n",
      "Please wait ...\n",
      "Data downloaded to C:\\Users\\crist\\Downloads\\S1B_IW_GRDH_1SDV_20210411T231230_20210411T231255_026425_032797_97AA.tif\n",
      "\n",
      "\n",
      "Exporting 7/19: S1B_IW_GRDH_1SDV_20210423T231231_20210423T231256_026600_032D36_FABC.tif\n",
      "Generating URL ...\n",
      "Downloading data from https://earthengine.googleapis.com/v1alpha/projects/earthengine-legacy/thumbnails/f66e829b4a39de79539a77402016638b-8efa9fbdb6c77fa5b6f5fb564ccb2726:getPixels\n",
      "Please wait ...\n",
      "Data downloaded to C:\\Users\\crist\\Downloads\\S1B_IW_GRDH_1SDV_20210423T231231_20210423T231256_026600_032D36_FABC.tif\n",
      "\n",
      "\n",
      "Exporting 8/19: S1B_IW_GRDH_1SDV_20210505T231231_20210505T231256_026775_0332CE_72A5.tif\n",
      "Generating URL ...\n",
      "Downloading data from https://earthengine.googleapis.com/v1alpha/projects/earthengine-legacy/thumbnails/f82464e3fa568a709027c84640c3b400-0b3bb322b6914fff6a98b8e650c6cf21:getPixels\n",
      "Please wait ...\n",
      "Data downloaded to C:\\Users\\crist\\Downloads\\S1B_IW_GRDH_1SDV_20210505T231231_20210505T231256_026775_0332CE_72A5.tif\n",
      "\n",
      "\n",
      "Exporting 9/19: S1B_IW_GRDH_1SDV_20210517T231232_20210517T231257_026950_033847_A9D4.tif\n",
      "Generating URL ...\n",
      "Downloading data from https://earthengine.googleapis.com/v1alpha/projects/earthengine-legacy/thumbnails/00cb095ef216c62d0c2789ac55ade2cd-af0dad4ed27c51bdd8b129a9e1a55f25:getPixels\n",
      "Please wait ...\n",
      "Data downloaded to C:\\Users\\crist\\Downloads\\S1B_IW_GRDH_1SDV_20210517T231232_20210517T231257_026950_033847_A9D4.tif\n",
      "\n",
      "\n",
      "Exporting 10/19: S1B_IW_GRDH_1SDV_20210529T231233_20210529T231258_027125_033D83_9995.tif\n",
      "Generating URL ...\n",
      "Downloading data from https://earthengine.googleapis.com/v1alpha/projects/earthengine-legacy/thumbnails/318941d83a5d3dbc5fc88920d9a8ac2a-bb2b13d46969ad0841f58899660702b4:getPixels\n",
      "Please wait ...\n",
      "Data downloaded to C:\\Users\\crist\\Downloads\\S1B_IW_GRDH_1SDV_20210529T231233_20210529T231258_027125_033D83_9995.tif\n",
      "\n",
      "\n",
      "Exporting 11/19: S1B_IW_GRDH_1SDV_20210610T231234_20210610T231259_027300_0342C3_B840.tif\n",
      "Generating URL ...\n",
      "Downloading data from https://earthengine.googleapis.com/v1alpha/projects/earthengine-legacy/thumbnails/18dd1134e48991068743711a7d583908-a22c86b1833b3be4aaf290c815db9d68:getPixels\n",
      "Please wait ...\n",
      "Data downloaded to C:\\Users\\crist\\Downloads\\S1B_IW_GRDH_1SDV_20210610T231234_20210610T231259_027300_0342C3_B840.tif\n",
      "\n",
      "\n",
      "Exporting 12/19: S1B_IW_GRDH_1SDV_20210622T231234_20210622T231259_027475_0347EA_0BC4.tif\n",
      "Generating URL ...\n",
      "Downloading data from https://earthengine.googleapis.com/v1alpha/projects/earthengine-legacy/thumbnails/7249396f12e68c60e06a5b626f105a11-b4d8d3bdd84829580167a19cc92bccfe:getPixels\n",
      "Please wait ...\n",
      "Data downloaded to C:\\Users\\crist\\Downloads\\S1B_IW_GRDH_1SDV_20210622T231234_20210622T231259_027475_0347EA_0BC4.tif\n",
      "\n",
      "\n",
      "Exporting 13/19: S1B_IW_GRDH_1SDV_20210704T231235_20210704T231300_027650_034CD6_BC1E.tif\n",
      "Generating URL ...\n",
      "Downloading data from https://earthengine.googleapis.com/v1alpha/projects/earthengine-legacy/thumbnails/618fc63496da5c61b2eedb42fa4ad93c-45089f93fa3dc6fa56efe76fa2c2a5a9:getPixels\n",
      "Please wait ...\n",
      "Data downloaded to C:\\Users\\crist\\Downloads\\S1B_IW_GRDH_1SDV_20210704T231235_20210704T231300_027650_034CD6_BC1E.tif\n",
      "\n",
      "\n",
      "Exporting 14/19: S1B_IW_GRDH_1SDV_20210716T231236_20210716T231301_027825_035204_48ED.tif\n",
      "Generating URL ...\n",
      "Downloading data from https://earthengine.googleapis.com/v1alpha/projects/earthengine-legacy/thumbnails/5863a3e575aba3b37e7596297b76ae24-238c314e507ae16776fa49dc3c30073a:getPixels\n",
      "Please wait ...\n",
      "Data downloaded to C:\\Users\\crist\\Downloads\\S1B_IW_GRDH_1SDV_20210716T231236_20210716T231301_027825_035204_48ED.tif\n",
      "\n",
      "\n",
      "Exporting 15/19: S1B_IW_GRDH_1SDV_20210728T231237_20210728T231302_028000_035726_4937.tif\n",
      "Generating URL ...\n",
      "Downloading data from https://earthengine.googleapis.com/v1alpha/projects/earthengine-legacy/thumbnails/84da31d0cc435e5d6efe27875e1f93d8-a053bf6862cc89eb750e2fe7a48d0ce0:getPixels\n",
      "Please wait ...\n",
      "Data downloaded to C:\\Users\\crist\\Downloads\\S1B_IW_GRDH_1SDV_20210728T231237_20210728T231302_028000_035726_4937.tif\n",
      "\n",
      "\n",
      "Exporting 16/19: S1B_IW_GRDH_1SDV_20210809T231237_20210809T231302_028175_035C82_E9CB.tif\n",
      "Generating URL ...\n",
      "Downloading data from https://earthengine.googleapis.com/v1alpha/projects/earthengine-legacy/thumbnails/2cb49c737407c06962c981c1f7b70e82-3254f672346e096abb5f6693403df1ae:getPixels\n",
      "Please wait ...\n",
      "Data downloaded to C:\\Users\\crist\\Downloads\\S1B_IW_GRDH_1SDV_20210809T231237_20210809T231302_028175_035C82_E9CB.tif\n",
      "\n",
      "\n",
      "Exporting 17/19: S1B_IW_GRDH_1SDV_20210821T231238_20210821T231303_028350_0361FC_04BB.tif\n",
      "Generating URL ...\n",
      "Downloading data from https://earthengine.googleapis.com/v1alpha/projects/earthengine-legacy/thumbnails/731217d303c3d582e37047e1c0d6fd0e-a9ffb759e19f6cc909da02da5199e623:getPixels\n",
      "Please wait ...\n",
      "Data downloaded to C:\\Users\\crist\\Downloads\\S1B_IW_GRDH_1SDV_20210821T231238_20210821T231303_028350_0361FC_04BB.tif\n",
      "\n",
      "\n",
      "Exporting 18/19: S1B_IW_GRDH_1SDV_20210902T231238_20210902T231303_028525_03676F_E94B.tif\n",
      "Generating URL ...\n",
      "Downloading data from https://earthengine.googleapis.com/v1alpha/projects/earthengine-legacy/thumbnails/d20954f4a56336bfc7e6af1a76dde839-c2725fe696756f0c96207e43b5938027:getPixels\n",
      "Please wait ...\n",
      "Data downloaded to C:\\Users\\crist\\Downloads\\S1B_IW_GRDH_1SDV_20210902T231238_20210902T231303_028525_03676F_E94B.tif\n",
      "\n",
      "\n",
      "Exporting 19/19: S1B_IW_GRDH_1SDV_20210914T231239_20210914T231304_028700_036CD0_6073.tif\n",
      "Generating URL ...\n",
      "Downloading data from https://earthengine.googleapis.com/v1alpha/projects/earthengine-legacy/thumbnails/9a30932ea0424d6778a0fc7298b7c7f7-d50fa1759fa2ffb3d2335cd7c737fbf3:getPixels\n",
      "Please wait ...\n",
      "Data downloaded to C:\\Users\\crist\\Downloads\\S1B_IW_GRDH_1SDV_20210914T231239_20210914T231304_028700_036CD0_6073.tif\n",
      "\n",
      "\n"
     ]
    }
   ],
   "source": [
    "#DESCARGA DE IMÁGENES SENTINEL 1 \n",
    "out_dir = os.path.join(os.path.expanduser('~'), 'Downloads')\n",
    "#filename = os.path.join(out_dir, 'landsat.tif')\n",
    "#geemap.ee_export_image(image, filename=filename, scale=90, region=roi, file_per_band=False)\n",
    "geemap.ee_export_image_collection(SAR_VV_A, out_dir=out_dir, scale=30, region=roi)"
   ]
  },
  {
   "cell_type": "markdown",
   "metadata": {},
   "source": [
    "## ..."
   ]
  }
 ],
 "metadata": {
  "hide_input": false,
  "kernelspec": {
   "display_name": "Python 3",
   "language": "python",
   "name": "python3"
  },
  "language_info": {
   "codemirror_mode": {
    "name": "ipython",
    "version": 3
   },
   "file_extension": ".py",
   "mimetype": "text/x-python",
   "name": "python",
   "nbconvert_exporter": "python",
   "pygments_lexer": "ipython3",
   "version": "3.8.2"
  },
  "toc": {
   "base_numbering": 1,
   "nav_menu": {},
   "number_sections": true,
   "sideBar": true,
   "skip_h1_title": true,
   "title_cell": "Table of Contents",
   "title_sidebar": "Table of Contents",
   "toc_cell": false,
   "toc_position": {},
   "toc_section_display": true,
   "toc_window_display": true
  },
  "varInspector": {
   "cols": {
    "lenName": 16,
    "lenType": 16,
    "lenVar": 40
   },
   "kernels_config": {
    "python": {
     "delete_cmd_postfix": "",
     "delete_cmd_prefix": "del ",
     "library": "var_list.py",
     "varRefreshCmd": "print(var_dic_list())"
    },
    "r": {
     "delete_cmd_postfix": ") ",
     "delete_cmd_prefix": "rm(",
     "library": "var_list.r",
     "varRefreshCmd": "cat(var_dic_list()) "
    }
   },
   "types_to_exclude": [
    "module",
    "function",
    "builtin_function_or_method",
    "instance",
    "_Feature"
   ],
   "window_display": false
  }
 },
 "nbformat": 4,
 "nbformat_minor": 4
}
